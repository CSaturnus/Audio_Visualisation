{
 "cells": [
  {
   "cell_type": "code",
   "execution_count": 1,
   "id": "59a91c48",
   "metadata": {},
   "outputs": [],
   "source": [
    "import pydub\n",
    "import numpy as np\n",
    "import matplotlib.pyplot as plt\n",
    "import os\n",
    "import moviepy.video.io.ImageSequenceClip\n",
    "import math \n",
    "from moviepy.editor import VideoFileClip, AudioFileClip"
   ]
  },
  {
   "cell_type": "code",
   "execution_count": 2,
   "id": "ad29c145",
   "metadata": {},
   "outputs": [],
   "source": [
    "def Array_mp3(audio):\n",
    "    audio_data = np.array(audio.get_array_of_samples())\n",
    "    normalized_data = audio_data / 32768.0\n",
    "    normalized_data = normalized_data.astype(np.float32)\n",
    "    duration = len(normalized_data) / audio.frame_rate\n",
    "    time = np.linspace(0, duration, len(normalized_data))\n",
    "    return duration,normalized_data,time"
   ]
  },
  {
   "cell_type": "code",
   "execution_count": 3,
   "id": "f96c42a0",
   "metadata": {},
   "outputs": [],
   "source": [
    "def plot_frame(frames, duration, time, normalized_data):\n",
    "    \n",
    "    length = int(len(time)/(duration*frames))\n",
    "    \n",
    "    \n",
    "    delta = 0.05\n",
    "    \n",
    "    R = 0\n",
    "    G = 0\n",
    "    B = 0\n",
    "    \n",
    "    for i in range(round(duration*frames)):\n",
    "        \n",
    "        plot1 = i*length\n",
    "        plot2 = (i+3)*length\n",
    "        \n",
    "        plt.plot(normalized_data[plot1:plot2], time[plot1:plot2], color=(R, G, B))\n",
    "        \n",
    "        plt.plot(normalized_data[plot1:plot2], 1+time[plot1:plot2], color=(R, G, B))\n",
    "        \n",
    "        plt.plot(normalized_data[plot1:plot2], 2+time[plot1:plot2], color=(R, G, B))\n",
    "        \n",
    "        \n",
    "#        plt.polar(1+normalized_data[plot1:plot2], 3+time[plot1:plot2], color=(R, G, B))\n",
    "        \n",
    "        \n",
    "        # Update RGB values for the next iteration\n",
    "        if R < 1 and B == 0 and G == 0:\n",
    "            R += delta\n",
    "        elif R == 1 and B == 0 and G < 1:\n",
    "            G += delta\n",
    "        elif R > 0 and B == 0 and G == 1:\n",
    "            R -= delta\n",
    "        elif R == 0 and B < 1 and G == 1:\n",
    "            B += delta\n",
    "        elif R == 0 and B == 1 and G > 0:\n",
    "            G -= delta\n",
    "        elif R < 1 and B == 1 and G == 0:\n",
    "            R += delta\n",
    "        elif R == 1 and B > 0 and G == 0:\n",
    "            B -= delta\n",
    "        \n",
    "        # Make sure RGB values stay within the valid range of 0 to 1\n",
    "        R = max(0, min(1, R))\n",
    "        G = max(0, min(1, G))\n",
    "        B = max(0, min(1, B))\n",
    "        \n",
    "        plt.axis('off')\n",
    "        plt.savefig(f\"Plot/plot_{i:07d}.png\")\n",
    "        plt.clf()\n",
    "    return"
   ]
  },
  {
   "cell_type": "code",
   "execution_count": 4,
   "id": "20913a44",
   "metadata": {},
   "outputs": [],
   "source": [
    "def pictovid(frames, image_folder, video_name):\n",
    "\n",
    "    image_folder=image_folder\n",
    "    fps = frames*2\n",
    "\n",
    "    image_files = [os.path.join(image_folder,img)\n",
    "                   for img in os.listdir(image_folder)\n",
    "                   if img.endswith(\".png\")]\n",
    "    clip = moviepy.video.io.ImageSequenceClip.ImageSequenceClip(image_files, fps=fps)\n",
    "    clip.write_videofile(video_name)\n",
    "    \n",
    "    return"
   ]
  },
  {
   "cell_type": "code",
   "execution_count": 5,
   "id": "f2ca77a3",
   "metadata": {},
   "outputs": [],
   "source": [
    "def video_add_audio(input_video_name, output_video_name, audio_name):\n",
    "    video_clip = VideoFileClip(input_video_name)\n",
    "    audio_clip = AudioFileClip(audio_name)\n",
    "    \n",
    "    video_clip = video_clip.set_audio(audio_clip)\n",
    "    video_clip.write_videofile(output_video_name)\n",
    "    return"
   ]
  },
  {
   "cell_type": "code",
   "execution_count": 6,
   "id": "e2c8b22f",
   "metadata": {},
   "outputs": [
    {
     "name": "stdout",
     "output_type": "stream",
     "text": [
      "Moviepy - Building video video.mp4.\n",
      "Moviepy - Writing video video.mp4\n",
      "\n"
     ]
    },
    {
     "name": "stderr",
     "output_type": "stream",
     "text": [
      "                                                                 \r"
     ]
    },
    {
     "name": "stdout",
     "output_type": "stream",
     "text": [
      "Moviepy - Done !\n",
      "Moviepy - video ready video.mp4\n",
      "Moviepy - Building video video_audio_3.mp4.\n",
      "MoviePy - Writing audio in video_audio_3TEMP_MPY_wvf_snd.mp3\n"
     ]
    },
    {
     "name": "stderr",
     "output_type": "stream",
     "text": [
      "                                                                      \r"
     ]
    },
    {
     "name": "stdout",
     "output_type": "stream",
     "text": [
      "MoviePy - Done.\n",
      "Moviepy - Writing video video_audio_3.mp4\n",
      "\n"
     ]
    },
    {
     "name": "stderr",
     "output_type": "stream",
     "text": [
      "                                                                 "
     ]
    },
    {
     "name": "stdout",
     "output_type": "stream",
     "text": [
      "Moviepy - Done !\n",
      "Moviepy - video ready video_audio_3.mp4\n"
     ]
    },
    {
     "name": "stderr",
     "output_type": "stream",
     "text": [
      "\r"
     ]
    },
    {
     "data": {
      "text/plain": [
       "<Figure size 640x480 with 0 Axes>"
      ]
     },
     "metadata": {},
     "output_type": "display_data"
    }
   ],
   "source": [
    "audio = pydub.AudioSegment.from_file(\"Kickback.mp3\")\n",
    "frames = 10\n",
    "    \n",
    "image_folder = 'Plot'\n",
    "video_name = 'video.mp4'\n",
    "input_video_name = video_name\n",
    "output_video_name = 'video_audio_3.mp4'\n",
    "audio_name = 'super_mario.mp3'\n",
    "\n",
    "duration, time, normalized_data = Array_mp3(audio)\n",
    "\n",
    "plot_frame(frames, duration, time, normalized_data)\n",
    "\n",
    "pictovid(frames, image_folder, video_name)\n",
    "\n",
    "video_add_audio(input_video_name, output_video_name, audio_name)"
   ]
  }
 ],
 "metadata": {
  "kernelspec": {
   "display_name": "Python 3 (ipykernel)",
   "language": "python",
   "name": "python3"
  },
  "language_info": {
   "codemirror_mode": {
    "name": "ipython",
    "version": 3
   },
   "file_extension": ".py",
   "mimetype": "text/x-python",
   "name": "python",
   "nbconvert_exporter": "python",
   "pygments_lexer": "ipython3",
   "version": "3.8.16"
  }
 },
 "nbformat": 4,
 "nbformat_minor": 5
}
